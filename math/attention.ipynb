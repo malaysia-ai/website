{
 "cells": [
  {
   "cell_type": "code",
   "execution_count": 1,
   "id": "58c0d8aa",
   "metadata": {},
   "outputs": [],
   "source": [
    "import numpy as np"
   ]
  },
  {
   "cell_type": "markdown",
   "id": "4969612b",
   "metadata": {},
   "source": [
    "# Attention mechanism\n",
    "\n",
    "attention = softmax(QK / sqrt(dK)) V"
   ]
  },
  {
   "cell_type": "code",
   "execution_count": 3,
   "id": "efb8b18a",
   "metadata": {},
   "outputs": [
    {
     "data": {
      "text/plain": [
       "<function RandomState.normal>"
      ]
     },
     "execution_count": 3,
     "metadata": {},
     "output_type": "execute_result"
    }
   ],
   "source": [
    "np.random.normal(size = (100, ))"
   ]
  },
  {
   "cell_type": "code",
   "execution_count": null,
   "id": "005ddf93",
   "metadata": {},
   "outputs": [],
   "source": [
    "Q = torch.randn(100, 128).cuda().to(torch.bfloat16)\n",
    "K = torch.randn(100, 128).cuda().to(torch.bfloat16)\n",
    "V = torch.randn(100, 128).cuda().to(torch.bfloat16)"
   ]
  }
 ],
 "metadata": {
  "kernelspec": {
   "display_name": "python3.10",
   "language": "python",
   "name": "python3.10"
  },
  "language_info": {
   "codemirror_mode": {
    "name": "ipython",
    "version": 3
   },
   "file_extension": ".py",
   "mimetype": "text/x-python",
   "name": "python",
   "nbconvert_exporter": "python",
   "pygments_lexer": "ipython3",
   "version": "3.10.15"
  }
 },
 "nbformat": 4,
 "nbformat_minor": 5
}
